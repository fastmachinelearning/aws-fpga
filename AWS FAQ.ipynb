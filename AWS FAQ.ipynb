{
 "cells": [
  {
   "cell_type": "markdown",
   "metadata": {},
   "source": [
    "# AWS FAQ\n",
    "\n",
    "**Q: In step 5J of Haoran's tutorial, I'm unable to locate the xrt_201802.2.1.0_16.04-xrt.deb file.<br>**\n",
    "A: xrt_201802.2.1.0_16.04-xrt.deb is located in XRT/build/Release.\n",
    "\n",
    "\n",
    "**Q: I'm stuck trying to get the xilinx-ml tarball onto the F1 instance. I also can't find the link in the browser to use wget directly from xilinx.<br>**\n",
    "A: Use Safari or another web browser, instead of Chrome.\n",
    "\n",
    "\n",
    "**Q: When I try to load the image, I get the error: no space left on device.<br>**\n",
    "A: Ask Burt to insert another disk and edit or create /etc/docker/daemon.json. If projects was the name of the disk directory, the contents of daemon.json should be:<br>\n",
    "*{<br>\n",
    "    \"data-root\": \"/home/ubuntu/name-of-disk-directory/docker/docker-data\",<br>\n",
    "    \"storage-driver\": \"overlay\"<br>\n",
    "}<br>*"
   ]
  }
 ],
 "metadata": {
  "kernelspec": {
   "display_name": "Python 3",
   "language": "python",
   "name": "python3"
  },
  "language_info": {
   "codemirror_mode": {
    "name": "ipython",
    "version": 3
   },
   "file_extension": ".py",
   "mimetype": "text/x-python",
   "name": "python",
   "nbconvert_exporter": "python",
   "pygments_lexer": "ipython3",
   "version": "3.7.1"
  }
 },
 "nbformat": 4,
 "nbformat_minor": 2
}
